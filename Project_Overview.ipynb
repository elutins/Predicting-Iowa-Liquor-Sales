{
 "cells": [
  {
   "cell_type": "markdown",
   "metadata": {},
   "source": [
    "##  Introduction\n",
    "\n",
    "A dataset of State to Store Liquor transactions across Iowa was provided for analysis. Given this dataset, it was myself and my team's mission to prodivde insight on where to open a future liquor store in the state of Iowa that will prove to be the most profitable. \n",
    "\n",
    "\n",
    "## Overview\n",
    "\n",
    "The dataset included variables such as how much, in dollars, each store has spent on liquor, the volume each store has acquired, the state profit margin on each transaction, the number of bottles acquired by each store from the state, and a geographical location of stores by county, zip code, and city. The variables were targeted at predicting Total Sales. Various types of models were produced in order to determine how to best predict a future location. In particular, the model types included a Multiple Linear Regression, Train-Test K-Folds Cross Validation, a Lasso Regression, and a Ridge Regression model were produced.  \n",
    "\n",
    "## Summary of Results\n",
    "\n",
    "It was concluded that a Ridge Regression Model, with predictors including: Number of Stores per Zip Code, the total Volume of liquor acquired from the State per Zip Code, the Bottles Sold per Zip Code, the State Profit per transaction, and Average Sales per Store per Zip Code, was the best fit model to predict Total Sales for a given zip code. The Ridge Regression model. The model brought back the following coefficients for each predictor:\n",
    "\n",
    "State Profit Per Bottle ($): -0.42704864351091054\n",
    "Volume Sold (Liters): 12.252467873356473\n",
    "Number of Stores Per Zip: -586.63409384884949\n",
    "Bottles Sold: 3.6659224682493536\n",
    "Sales Per Store: 0.43884914740620878\n",
    "\n",
    "These coefficients represent the strength and direction of influence the predictor has on Total Sales. As proven, as the number of stores in each zip code increases by one unit, the Total Sales for each store in that Zip Code decrease tremendously. In other words, as more competitors (liquor stores) are added to the field, the profits for each existing competitor decline. Based on these predictors and coefficients, four zip codes in particular were narrowed down as the best locations to open a future liquor store. Zip Codes 50314, 50320, 52807, and 50311. Each of these Zip Codes has very few liquor stores in the area, but a high number of Bottles Sold, Volume Sold, and Sales per Store average.\n",
    "\n",
    "## Future Studies \n",
    "\n",
    "Moving forward, in order to better fit a model to predict the most lucrative location for a new store, a dataset of Liquor Store to customer transactions would be investigated. With the current dataset in addition to the second, a classification system will be used to categorize various liquor stores and predict what class a future liquor store will fall in based on location."
   ]
  },
  {
   "cell_type": "code",
   "execution_count": null,
   "metadata": {
    "collapsed": true
   },
   "outputs": [],
   "source": []
  }
 ],
 "metadata": {
  "kernelspec": {
   "display_name": "Python 2",
   "language": "python",
   "name": "python2"
  },
  "language_info": {
   "codemirror_mode": {
    "name": "ipython",
    "version": 2
   },
   "file_extension": ".py",
   "mimetype": "text/x-python",
   "name": "python",
   "nbconvert_exporter": "python",
   "pygments_lexer": "ipython2",
   "version": "2.7.13"
  }
 },
 "nbformat": 4,
 "nbformat_minor": 2
}
